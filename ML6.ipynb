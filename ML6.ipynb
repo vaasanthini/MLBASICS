{
  "nbformat": 4,
  "nbformat_minor": 0,
  "metadata": {
    "colab": {
      "provenance": [],
      "authorship_tag": "ABX9TyNSqEJnGlvB8tqmpOPWbPn3",
      "include_colab_link": true
    },
    "kernelspec": {
      "name": "python3",
      "display_name": "Python 3"
    },
    "language_info": {
      "name": "python"
    }
  },
  "cells": [
    {
      "cell_type": "markdown",
      "metadata": {
        "id": "view-in-github",
        "colab_type": "text"
      },
      "source": [
        "<a href=\"https://colab.research.google.com/github/vaasanthini/MLBASICS/blob/main/ML6.ipynb\" target=\"_parent\"><img src=\"https://colab.research.google.com/assets/colab-badge.svg\" alt=\"Open In Colab\"/></a>"
      ]
    },
    {
      "cell_type": "code",
      "execution_count": 1,
      "metadata": {
        "id": "eM_4uIeRwHNu"
      },
      "outputs": [],
      "source": [
        "import pandas as pd\n",
        "from sklearn.model_selection import train_test_split\n",
        "from sklearn.preprocessing import OneHotEncoder\n",
        "file_path = '/content/50_Startups.csv'\n",
        "data = pd.read_csv(file_path)\n",
        "data = pd.get_dummies(data, columns=['State'], drop_first=True)\n",
        "X = data.drop('Profit', axis=1)\n",
        "y = data['Profit']\n",
        "X_train, X_test, y_train, y_test = train_test_split(X, y, test_size=0.2, random_state=42)\n",
        "\n"
      ]
    },
    {
      "cell_type": "code",
      "source": [
        "from sklearn.linear_model import LinearRegression\n",
        "from sklearn.metrics import mean_absolute_error, mean_squared_error, r2_score\n",
        "import numpy as np\n",
        "linear_model = LinearRegression()\n",
        "linear_model.fit(X_train, y_train)\n",
        "y_pred = linear_model.predict(X_test)\n",
        "mae = mean_absolute_error(y_test, y_pred)\n",
        "mse = mean_squared_error(y_test, y_pred)\n",
        "rmse = np.sqrt(mse)\n",
        "r2 = r2_score(y_test, y_pred)\n",
        "print(\"No Regularization (Simple Linear Regression):\")\n",
        "print(f\"MAE: {mae}, MSE: {mse}, RMSE: {rmse}, R2 Score: {r2}\")\n",
        ""
      ],
      "metadata": {
        "colab": {
          "base_uri": "https://localhost:8080/"
        },
        "id": "OU2ojjW_Qwtk",
        "outputId": "3a838b9f-6c72-470d-bb62-a3e509116e17"
      },
      "execution_count": 2,
      "outputs": [
        {
          "output_type": "stream",
          "name": "stdout",
          "text": [
            "No Regularization (Simple Linear Regression):\n",
            "MAE: 6961.477813252376, MSE: 82010363.04430099, RMSE: 9055.957323458464, R2 Score: 0.8987266414328637\n"
          ]
        }
      ]
    },
    {
      "cell_type": "code",
      "source": [
        "from sklearn.linear_model import Lasso\n",
        "lasso_model = Lasso(alpha=1.0)\n",
        "lasso_model.fit(X_train, y_train)\n",
        "y_pred_lasso = lasso_model.predict(X_test)\n",
        "mae = mean_absolute_error(y_test, y_pred_lasso)\n",
        "mse = mean_squared_error(y_test, y_pred_lasso)\n",
        "rmse = np.sqrt(mse)\n",
        "r2 = r2_score(y_test, y_pred_lasso)\n",
        "print(\"L1 Regularization (Lasso Regression):\")\n",
        "print(f\"MAE: {mae}, MSE: {mse}, RMSE: {rmse}, R2 Score: {r2}\")"
      ],
      "metadata": {
        "colab": {
          "base_uri": "https://localhost:8080/"
        },
        "id": "DZ3aMfk9UmXv",
        "outputId": "8274cc42-fff2-47fd-c35c-0860edb7bd6b"
      },
      "execution_count": 3,
      "outputs": [
        {
          "output_type": "stream",
          "name": "stdout",
          "text": [
            "L1 Regularization (Lasso Regression):\n",
            "MAE: 6961.5746884671735, MSE: 82004202.15414938, RMSE: 9055.617160312675, R2 Score: 0.8987342494230525\n"
          ]
        }
      ]
    },
    {
      "cell_type": "code",
      "source": [
        "from sklearn.linear_model import Ridge\n",
        "ridge_model = Ridge(alpha=1.0)\n",
        "ridge_model.fit():\")\n",
        "print(f\"MAE: {mae}, MSE: {mse}, RMSE: {rmse}, R2 Score: {r2}\")X_train, y_train)\n",
        "y_pred_ridge = ridge_model.predict(X_test)\n",
        "mae = mean_absolute_error(y_test, y_pred_ridge)\n",
        "mse = mean_squared_error(y_test, y_pred_ridge)\n",
        "rmse = np.sqrt(mse)\n",
        "r2 = r2_score(y_test, y_pred_ridge)\n",
        "print(\"L2 Regularization (Ridge Regression)\")"
      ],
      "metadata": {
        "colab": {
          "base_uri": "https://localhost:8080/"
        },
        "id": "UBJ9F0WEUsPS",
        "outputId": "33fb9dd1-4912-44ff-e229-841be2740496"
      },
      "execution_count": 4,
      "outputs": [
        {
          "output_type": "stream",
          "name": "stdout",
          "text": [
            "L2 Regularization (Ridge Regression):\n",
            "MAE: 6963.340034795974, MSE: 81887773.66036233, RMSE: 9049.186353499541, R2 Score: 0.8988780252113923\n"
          ]
        }
      ]
    }
  ]
}