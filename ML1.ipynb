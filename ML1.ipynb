{
  "nbformat": 4,
  "nbformat_minor": 0,
  "metadata": {
    "colab": {
      "provenance": [],
      "authorship_tag": "ABX9TyN9lfrlKDn7l+xVwd9EtOmO",
      "include_colab_link": true
    },
    "kernelspec": {
      "name": "python3",
      "display_name": "Python 3"
    },
    "language_info": {
      "name": "python"
    }
  },
  "cells": [
    {
      "cell_type": "markdown",
      "metadata": {
        "id": "view-in-github",
        "colab_type": "text"
      },
      "source": [
        "<a href=\"https://colab.research.google.com/github/vaasanthini/MLBASICS/blob/main/ML1.ipynb\" target=\"_parent\"><img src=\"https://colab.research.google.com/assets/colab-badge.svg\" alt=\"Open In Colab\"/></a>"
      ]
    },
    {
      "cell_type": "markdown",
      "source": [
        "# Perform arithmetic operations on NumPy arrays\n"
      ],
      "metadata": {
        "id": "FPp5ygy-oNYE"
      }
    },
    {
      "cell_type": "code",
      "source": [
        "import numpy as np\n",
        "a = np.array([1,2,3]) #array a\n",
        "b =np.array([1]) #array b\n",
        "c = a + b #addition\n",
        "d = a - b #subtraction\n",
        "e = a * b #multiplication\n",
        "f = a / b\n",
        "print(c,d,e,f) #print result"
      ],
      "metadata": {
        "colab": {
          "base_uri": "https://localhost:8080/"
        },
        "id": "636sBFgGoRCp",
        "outputId": "06b522c9-1b19-48c9-f8bf-bc20664c0574"
      },
      "execution_count": 32,
      "outputs": [
        {
          "output_type": "stream",
          "name": "stdout",
          "text": [
            "[2 3 4] [0 1 2] [1 2 3] [1. 2. 3.]\n"
          ]
        }
      ]
    },
    {
      "cell_type": "markdown",
      "source": [
        "# Write a script to compute the mean and standard deviation of a NumPy array"
      ],
      "metadata": {
        "id": "XE8c1IXwpb-C"
      }
    },
    {
      "cell_type": "code",
      "source": [
        "import numpy as np\n",
        "a = np.array([1,2,3,4]) #create array a\n",
        "mean_a = np.mean(a) #find mean\n",
        "print(f\"the mean is : {mean_a}\") #print mean\n",
        "std_a = np.std(a) #find standard deviation\n",
        "print(f\"the standard deviation is : {std_a}\") #print standard deviation\n"
      ],
      "metadata": {
        "colab": {
          "base_uri": "https://localhost:8080/"
        },
        "id": "1c70ZP4Rpe9K",
        "outputId": "0eae5250-fe5f-44d1-b2be-588b5fc67e22"
      },
      "execution_count": 6,
      "outputs": [
        {
          "output_type": "stream",
          "name": "stdout",
          "text": [
            "the mean is : 2.5\n",
            "the standard deviation is : 1.118033988749895\n"
          ]
        }
      ]
    },
    {
      "cell_type": "markdown",
      "source": [
        "# Create a NumPy array of integers from 10 to 50 with a step size of 5"
      ],
      "metadata": {
        "id": "6mVXo9a1qdwV"
      }
    },
    {
      "cell_type": "code",
      "source": [
        "import numpy as np\n",
        "array = np.arange(10,51,5)\n",
        "print(f\"the array is : {array}\") #arange(start_value, last_value + 1, size)"
      ],
      "metadata": {
        "colab": {
          "base_uri": "https://localhost:8080/"
        },
        "id": "I7OZYFMtqgkw",
        "outputId": "66766ee1-1c3e-4212-afae-da53a5131229"
      },
      "execution_count": 8,
      "outputs": [
        {
          "output_type": "stream",
          "name": "stdout",
          "text": [
            "the array is : [10 15 20 25 30 35 40 45 50]\n"
          ]
        }
      ]
    },
    {
      "cell_type": "markdown",
      "source": [
        "# Reshape the array into a 2x4 matrix."
      ],
      "metadata": {
        "id": "s7WQtMXarKQK"
      }
    },
    {
      "cell_type": "code",
      "source": [
        "import numpy as np\n",
        "array = np.arange(5,21,5) #create the array\n",
        "reshaped_array = array.reshape(2,2) #reshape teh array\n",
        "print(f\"the original array is : {array}\") #print the original array\n",
        "print(f\"the reshaped array is : {reshaped_array}\") #print the reshaped array"
      ],
      "metadata": {
        "colab": {
          "base_uri": "https://localhost:8080/"
        },
        "id": "UvCtKeTKrNKg",
        "outputId": "57f903f5-4cef-41e7-c892-ec678646f6b3"
      },
      "execution_count": 21,
      "outputs": [
        {
          "output_type": "stream",
          "name": "stdout",
          "text": [
            "the original array is : [ 5 10 15 20]\n",
            "the reshaped array is : [[ 5 10]\n",
            " [15 20]]\n"
          ]
        }
      ]
    },
    {
      "cell_type": "markdown",
      "source": [
        "Given the array arr = np.array([[1, 2, 3], [4, 5, 6], [7, 8, 9]]):\n",
        "Extract the sub-matrix containing the last two rows and first two columns.\n",
        "Replace all elements greater than 4 with 0."
      ],
      "metadata": {
        "id": "QUiMNqkys4aj"
      }
    },
    {
      "cell_type": "code",
      "source": [
        "import numpy as np\n",
        "arr = np.array([[1,2,3],[4,5,6],[7,8,9]]) #create the array\n",
        "submatrix_arr = arr[1:,:2] #find the submatrix\n",
        "submatrix = submatrix_arr[submatrix_arr > 4] #replace elements greater than 4 by 0\n",
        "print(f\"the submatrix is : {submatrix}\") #print the result"
      ],
      "metadata": {
        "colab": {
          "base_uri": "https://localhost:8080/"
        },
        "id": "UoXDlqq-tAbD",
        "outputId": "e6081924-325c-4455-f0a7-f063343219bf"
      },
      "execution_count": 22,
      "outputs": [
        {
          "output_type": "stream",
          "name": "stdout",
          "text": [
            "the submatrix is : [5 7 8]\n"
          ]
        }
      ]
    },
    {
      "cell_type": "markdown",
      "source": [
        "# Create two 1D arrays: a = np.array([1, 2, 3]) b = np.array([4, 5, 6]) Perform element-wise addition, multiplication, and division.\n",
        "\n",
        "> Add blockquote\n",
        "\n"
      ],
      "metadata": {
        "id": "QKuaNjGauCCo"
      }
    },
    {
      "cell_type": "code",
      "source": [
        "import numpy as np\n",
        "a = np.array([1,2,3]) #create array\n",
        "b = np.array([4,5,6])\n",
        "addition = a + b #add\n",
        "multiplication = a*b #subtract\n",
        "division = a / b #multiply\n",
        "#print the result\n",
        "print(f\"element wise addition is : {addition}\")\n",
        "print(f\"element wise multiplication is : {multiplication}\")\n",
        "print(f\"element wise division is : {division}\")"
      ],
      "metadata": {
        "colab": {
          "base_uri": "https://localhost:8080/"
        },
        "id": "Y_Z8FbqfuKMw",
        "outputId": "d4bbfab0-a30e-402a-d6b0-a329117073b2"
      },
      "execution_count": 26,
      "outputs": [
        {
          "output_type": "stream",
          "name": "stdout",
          "text": [
            "element wise addition is : [5 7 9]\n",
            "element wise multiplication is : [ 4 10 18]\n",
            "element wise division is : [0.25 0.4  0.5 ]\n"
          ]
        }
      ]
    },
    {
      "cell_type": "markdown",
      "source": [
        "# Create a random NumPy array of size (4,4). Compute:\n",
        "# Mean of each column.\n",
        "# Maximum value of the entire array.\n",
        "# Sum of all elements."
      ],
      "metadata": {
        "id": "-qYJVtp7vdIU"
      }
    },
    {
      "cell_type": "code",
      "source": [
        "import numpy as np\n",
        "random_array = np.random.rand(4,4) #create a random arr\n",
        "mean_column =np.mean(random_array,axis=0) #to find column wise mean\n",
        "max_val = np.max(random_array) #max value of the result array\n",
        "sum_array = np.sum(random_array) #sum of all elemennts\n",
        "print(f\"mean of each column are : {mean_column}\")\n",
        "print(f\"maximum value of the entire array is : {max_val}\")\n",
        "print(f\"sum of all elements in the array is : {sum_array}\")"
      ],
      "metadata": {
        "colab": {
          "base_uri": "https://localhost:8080/"
        },
        "id": "B5bfwyk7vt-k",
        "outputId": "226bba8e-1eca-45eb-d28b-03ec1303b288"
      },
      "execution_count": 27,
      "outputs": [
        {
          "output_type": "stream",
          "name": "stdout",
          "text": [
            "mean of each column are : [0.6143209  0.77768804 0.55517818 0.34310345]\n",
            "maximum value of the entire array is : 0.9558367410970505\n",
            "sum of all elements in the array is : 9.161162305154004\n"
          ]
        }
      ]
    },
    {
      "cell_type": "markdown",
      "source": [
        "# Given the array arr = np.array([1, 2, 3, 4]), add 10 to each element and multiply the result by 2"
      ],
      "metadata": {
        "id": "KeNdKH1cxXmw"
      }
    },
    {
      "cell_type": "code",
      "source": [
        "import numpy as np\n",
        "array = np.array([1,2,3,4]) #create a array\n",
        "result = (array + 10) * 2\n",
        "print(f\"the resultant array is : {result}\") #print the result"
      ],
      "metadata": {
        "colab": {
          "base_uri": "https://localhost:8080/"
        },
        "id": "ZwyUE16-xbkt",
        "outputId": "d7fc3b04-5dd7-4345-f660-714c7568bba6"
      },
      "execution_count": 28,
      "outputs": [
        {
          "output_type": "stream",
          "name": "stdout",
          "text": [
            "the resultant array is : [22 24 26 28]\n"
          ]
        }
      ]
    },
    {
      "cell_type": "markdown",
      "source": [
        "# Perform advanced slicing and indexing on a 3D array. Create a 3D NumPy array arr of shape (3, 4, 5) with random integers ranging from 1 to 100. Perform the following:\n",
        "# Extract the second \"layer\" (i.e., the second 2D array) in the first dimension.\n",
        "# Extract the first two rows and the last three columns from each \"layer.\"\n",
        "## Replace all elements divisible by 3 with -1."
      ],
      "metadata": {
        "id": "wexBrFzEx_ZE"
      }
    },
    {
      "cell_type": "code",
      "source": [
        "import numpy as np\n",
        "arr = np.random.randint(1, 101, size=(3, 4, 5)) #create an array\n",
        "second_layer = arr[1, :, :]\n",
        "print(\"Second layer:\\n\", second_layer) #2d array\n",
        "sub_array = arr[:, :2, -3:]\n",
        "print(\"\\nSub-array:\\n\", sub_array) #first 2 rows and last 3 columns\n",
        "arr[arr % 3 == 0] = -1 #if divisible by 3 then replace by -1\n",
        "print(\"\\nModified array:\\n\", arr) #print the resultant array"
      ],
      "metadata": {
        "colab": {
          "base_uri": "https://localhost:8080/"
        },
        "id": "w1Dvfuq2yMZp",
        "outputId": "cca879a2-1b1c-4d84-b8c6-ce0d7575ffd3"
      },
      "execution_count": 30,
      "outputs": [
        {
          "output_type": "stream",
          "name": "stdout",
          "text": [
            "Second layer:\n",
            " [[72 30 61  3 17]\n",
            " [85 19 36 43 40]\n",
            " [44 55 53 29 47]\n",
            " [80 27 30 40 83]]\n",
            "\n",
            "Sub-array:\n",
            " [[[60 63 85]\n",
            "  [71 77 35]]\n",
            "\n",
            " [[61  3 17]\n",
            "  [36 43 40]]\n",
            "\n",
            " [[43 16 12]\n",
            "  [65  9 28]]]\n",
            "\n",
            "Modified array:\n",
            " [[[ 22  -1  -1  -1  85]\n",
            "  [ 10  -1  71  77  35]\n",
            "  [ -1  97  35  82  -1]\n",
            "  [ 91  26  38  26  -1]]\n",
            "\n",
            " [[ -1  -1  61  -1  17]\n",
            "  [ 85  19  -1  43  40]\n",
            "  [ 44  55  53  29  47]\n",
            "  [ 80  -1  -1  40  83]]\n",
            "\n",
            " [[ 44   8  43  16  -1]\n",
            "  [ 46  -1  65  -1  28]\n",
            "  [ 59   1 100  34  10]\n",
            "  [ -1  38 100  97  61]]]\n"
          ]
        }
      ]
    },
    {
      "cell_type": "markdown",
      "source": [
        "# Work with broadcasting and advanced operations in NumPy. Create a NumPy array arr of shape (3, 3) with random integers between 1 and 20. Perform the following:\n",
        "# Subtract the mean of each row from its respective elements (row-wise normalization).\n",
        "# Create a new array by squaring all the elements in arr.\n",
        "# Find the indices of the top 3 maximum values in the entire array."
      ],
      "metadata": {
        "id": "MfCxsgW5zJ7b"
      }
    },
    {
      "cell_type": "code",
      "source": [
        "\n",
        "import numpy as np\n",
        "arr = np.random.randint(1, 21, size=(3, 3)) #create an array\n",
        "row_means = np.mean(arr, axis=1, keepdims=True) #find mean\n",
        "normalized_arr = arr - row_means #element - mean\n",
        "squared_arr = np.square(arr) # squared array\n",
        "indices = np.argpartition(arr.flatten(), -3)[-3:] # indices of the top3 max values\n",
        "#print the result\n",
        "print(\"Original array:\\n\", arr)\n",
        "print(\"\\nRow wise normalized array:\\n\", normalized_arr)\n",
        "print(\"\\nSquared array:\\n\", squared_arr)\n",
        "print(\"\\nIndices of top 3 maximum values in the entire array:\", indices)"
      ],
      "metadata": {
        "colab": {
          "base_uri": "https://localhost:8080/"
        },
        "id": "_kgSmTd0zd0b",
        "outputId": "1455526c-0855-4df0-99d2-03bcfb9fa400"
      },
      "execution_count": 31,
      "outputs": [
        {
          "output_type": "stream",
          "name": "stdout",
          "text": [
            "Original array:\n",
            " [[ 8 16  3]\n",
            " [20 18  6]\n",
            " [ 4  1 20]]\n",
            "\n",
            "Row wise normalized array:\n",
            " [[-1.          7.         -6.        ]\n",
            " [ 5.33333333  3.33333333 -8.66666667]\n",
            " [-4.33333333 -7.33333333 11.66666667]]\n",
            "\n",
            "Squared array:\n",
            " [[ 64 256   9]\n",
            " [400 324  36]\n",
            " [ 16   1 400]]\n",
            "\n",
            "Indices of top 3 maximum values in the entire array: [4 3 8]\n"
          ]
        }
      ]
    }
  ]
}